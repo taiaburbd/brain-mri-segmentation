{
 "cells": [
  {
   "cell_type": "code",
   "execution_count": 4,
   "metadata": {},
   "outputs": [],
   "source": [
    "import nibabel as nib\n",
    "import numpy as np\n",
    "import os\n",
    "from skimage.util import view_as_windows\n",
    "import glob\n",
    "import tqdm\n",
    "\n",
    "def generate_2d_patches(nifti_file, output_folder, patch_size=(32, 32), stride=(16, 16)):\n",
    "    # Ensure output folder exists\n",
    "    if not os.path.exists(output_folder):\n",
    "        os.makedirs(output_folder)\n",
    "\n",
    "    if nifti_file:\n",
    "        image_file_name = os.path.splitext(os.path.basename(nifti_file))[0].split('.')[0]\n",
    "\n",
    "        output_path = os.path.join(output_folder, f'patched_{image_file_name}')\n",
    "\n",
    "        # Load NIfTI image\n",
    "        img = nib.load(nifti_file)\n",
    "        data = img.get_fdata()\n",
    "\n",
    "        # Squeeze the singleton dimension if present\n",
    "        data = np.squeeze(data)\n",
    "\n",
    "        print(f\"Image shape: {data.shape}, Patch size: {patch_size}, Stride: {stride}\")\n",
    "\n",
    "        # Check if patch size is compatible with image shape\n",
    "        if any(patch_size[i] > data.shape[i] for i in range(len(patch_size))):\n",
    "            raise ValueError(\"Patch size is larger than the image dimensions\")\n",
    "\n",
    "        # Generate patches along the first two dimensions (assuming 3D image)\n",
    "        patches = view_as_windows(data, (1, *patch_size), (1, *stride))\n",
    "\n",
    "        # Reshape to (num_patches, patch_size_x, patch_size_y)\n",
    "        patches = patches.reshape(-1, *patch_size)\n",
    "\n",
    "        # Save each patch as a separate NIfTI file\n",
    "        for i, patch in enumerate(patches):\n",
    "            patch_img = nib.Nifti1Image(patch, img.affine)\n",
    "            patch_output_path = f'{output_path}_patch_{i}.nii.gz'\n",
    "            nib.save(patch_img, patch_output_path)\n",
    "            # print(f'Patch saved: {patch_output_path}')"
   ]
  },
  {
   "cell_type": "code",
   "execution_count": 5,
   "metadata": {},
   "outputs": [],
   "source": [
    "# Training Images List\n",
    "train_images = []\n",
    "# Mask/Label info as a list\n",
    "train_masks = []\n",
    "\n",
    "# Dataset path define\n",
    "base_path = \"TrainingValidationTestSets/\"\n",
    "# Training images path\n",
    "train_img_path = os.path.join(base_path, \"Training_Set\")\n",
    "# Validation images path \n",
    "validation_img_path = os.path.join(base_path, \"Validation_Set\")\n",
    "# Test images path\n",
    "test_img_path = os.path.join(base_path, \"Test_Set\")\n"
   ]
  },
  {
   "cell_type": "code",
   "execution_count": 6,
   "metadata": {},
   "outputs": [
    {
     "name": "stdout",
     "output_type": "stream",
     "text": [
      "Image shape: (256, 128, 256), Patch size: (32, 32), Stride: (16, 16)\n",
      "Image shape: (256, 128, 256), Patch size: (32, 32), Stride: (16, 16)\n",
      "Image shape: (256, 128, 256), Patch size: (32, 32), Stride: (16, 16)\n",
      "Image shape: (256, 128, 256), Patch size: (32, 32), Stride: (16, 16)\n",
      "Image shape: (256, 128, 256), Patch size: (32, 32), Stride: (16, 16)\n",
      "Image shape: (256, 128, 256), Patch size: (32, 32), Stride: (16, 16)\n",
      "Image shape: (256, 128, 256), Patch size: (32, 32), Stride: (16, 16)\n",
      "Image shape: (256, 128, 256), Patch size: (32, 32), Stride: (16, 16)\n",
      "Image shape: (256, 128, 256), Patch size: (32, 32), Stride: (16, 16)\n",
      "Image shape: (256, 128, 256), Patch size: (32, 32), Stride: (16, 16)\n"
     ]
    }
   ],
   "source": [
    "# training image load\n",
    "\n",
    "for directory_path in glob.glob(os.path.join(train_img_path, \"*\")):\n",
    "    for image_path in glob.glob(os.path.join(directory_path, \"IBSR_*.nii.gz\")):\n",
    "        if not image_path.endswith(\"_seg.nii.gz\"):\n",
    "            generate_2d_patches(image_path, directory_path)"
   ]
  },
  {
   "cell_type": "code",
   "execution_count": 7,
   "metadata": {},
   "outputs": [
    {
     "name": "stdout",
     "output_type": "stream",
     "text": [
      "Image shape: (256, 128, 256), Patch size: (32, 32), Stride: (16, 16)\n",
      "Image shape: (256, 128, 256), Patch size: (32, 32), Stride: (16, 16)\n",
      "Image shape: (256, 128, 256), Patch size: (32, 32), Stride: (16, 16)\n",
      "Image shape: (256, 128, 256), Patch size: (32, 32), Stride: (16, 16)\n",
      "Image shape: (256, 128, 256), Patch size: (32, 32), Stride: (16, 16)\n",
      "Image shape: (256, 128, 256), Patch size: (32, 32), Stride: (16, 16)\n",
      "Image shape: (256, 128, 256), Patch size: (32, 32), Stride: (16, 16)\n",
      "Image shape: (256, 128, 256), Patch size: (32, 32), Stride: (16, 16)\n",
      "Image shape: (256, 128, 256), Patch size: (32, 32), Stride: (16, 16)\n",
      "Image shape: (256, 128, 256), Patch size: (32, 32), Stride: (16, 16)\n"
     ]
    }
   ],
   "source": [
    "# training mask images\n",
    "for directory_path in glob.glob(os.path.join(train_img_path, \"*\")):\n",
    "    for image_path in glob.glob(os.path.join(directory_path, \"IBSR_*_seg.nii.gz\")):\n",
    "        generate_2d_patches(image_path, directory_path)"
   ]
  }
 ],
 "metadata": {
  "kernelspec": {
   "display_name": ".venv",
   "language": "python",
   "name": "python3"
  },
  "language_info": {
   "codemirror_mode": {
    "name": "ipython",
    "version": 3
   },
   "file_extension": ".py",
   "mimetype": "text/x-python",
   "name": "python",
   "nbconvert_exporter": "python",
   "pygments_lexer": "ipython3",
   "version": "3.10.12"
  }
 },
 "nbformat": 4,
 "nbformat_minor": 2
}
